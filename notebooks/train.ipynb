{
 "cells": [
  {
   "cell_type": "code",
   "execution_count": 1,
   "metadata": {},
   "outputs": [
    {
     "name": "stdout",
     "output_type": "stream",
     "text": [
      "2.3.1\n",
      "2.4.0\n"
     ]
    }
   ],
   "source": [
    "import sys\n",
    "import os\n",
    "os.chdir(\"../\")\n",
    "os.environ[\"CUDA_VISIBLE_DEVICES\"]=\"0\"\n",
    "import numpy as np\n",
    "import tensorflow as tf\n",
    "import tensorflow.keras as K\n",
    "from tensorflow.keras import backend as Kb\n",
    "import tensorflow_datasets as tfds\n",
    "import tensorflow_probability as tfp\n",
    "import datasets.larcv\n",
    "import matplotlib\n",
    "import matplotlib.pyplot as plt\n",
    "\n",
    "from argparser import train_parser\n",
    "\n",
    "tfd = tfp.distributions\n",
    "\n",
    "print(tf.__version__)\n",
    "print(K.__version__)"
   ]
  },
  {
   "cell_type": "code",
   "execution_count": 2,
   "metadata": {},
   "outputs": [
    {
     "name": "stdout",
     "output_type": "stream",
     "text": [
      "['../train.py', '--gpu', '0', '--k', '256', '--d', '8', '--beta', '1', '--vqvae_batch_size', '250', '--vqvae_epochs', '5', '--vqvae_lr', '3e-4', '--vqvae_layers', '16', '32', '--pcnn_features', '64', '--pcnn_epochs', '10']\n"
     ]
    }
   ],
   "source": [
    "arg_file = open(r\"launch_scripts/conv_vqvae_larcv.sh\", \"r\")\n",
    "test = arg_file.readlines()\n",
    "\n",
    "test = test[2:]\n",
    "test = [i.replace(\" \\\\\\n\", \"\") for i in test]\n",
    "test = [i.replace(\"\\n\", \"\") for i in test]\n",
    "test = [i.split(\" \") for i in test]\n",
    "test = [i for sublist in test for i in sublist]\n",
    "test = [\"../train.py\"] + test\n",
    "\n",
    "print(test)"
   ]
  },
  {
   "cell_type": "code",
   "execution_count": 3,
   "metadata": {},
   "outputs": [],
   "source": [
    "sys.argv = test\n",
    "parser = train_parser()\n",
    "config = vars(parser.parse_args())"
   ]
  },
  {
   "cell_type": "code",
   "execution_count": null,
   "metadata": {},
   "outputs": [],
   "source": []
  }
 ],
 "metadata": {
  "kernelspec": {
   "display_name": "Python 3",
   "language": "python",
   "name": "python3"
  },
  "language_info": {
   "codemirror_mode": {
    "name": "ipython",
    "version": 3
   },
   "file_extension": ".py",
   "mimetype": "text/x-python",
   "name": "python",
   "nbconvert_exporter": "python",
   "pygments_lexer": "ipython3",
   "version": "3.6.9"
  }
 },
 "nbformat": 4,
 "nbformat_minor": 2
}

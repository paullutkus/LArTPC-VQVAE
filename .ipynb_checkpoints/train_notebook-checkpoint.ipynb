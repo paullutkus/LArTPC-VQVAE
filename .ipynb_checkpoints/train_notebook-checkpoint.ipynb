{
 "cells": [
  {
   "cell_type": "code",
   "execution_count": null,
   "metadata": {},
   "outputs": [],
   "source": [
    "import os\n",
    "import sys\n",
    "import numpy as np\n",
    "import tensorflow as tf\n",
    "import tensorflow.keras as keras\n",
    "from tensorflow.keras import backend as K\n",
    "import tensorflow_datasets as tfds\n",
    "import datasets.larcv\n",
    "\n",
    "from setup_model import build_vqvae, build_pixelcnn\n",
    "from argparser import train_parser\n",
    "from metrics import accuracy\n",
    "from utils import nle_ckpt"
   ]
  },
  {
   "cell_type": "code",
   "execution_count": null,
   "metadata": {},
   "outputs": [],
   "source": [
    "# read args as from text file\n",
    "arg_file = open(\"launch_scripts/nb_args.txt\", \"r\")\n",
    "args = arg_file.readlines()\n",
    "args = [arg[:-1].split() for arg in args]\n",
    "# flatten args\n",
    "args = [arg_word for arg in args for arg_word in arg]\n",
    "sys.argv = ['dummy.py'] + args"
   ]
  },
  {
   "cell_type": "code",
   "execution_count": null,
   "metadata": {},
   "outputs": [],
   "source": [
    "print(sys.argv)"
   ]
  },
  {
   "cell_type": "code",
   "execution_count": null,
   "metadata": {},
   "outputs": [],
   "source": [
    "parser = train_parser()\n",
    "config = vars(parser.parse_args())\n",
    "os.environ[\"CUDA_VISIBLE_DEVICES\"]=str(config['gpu']) "
   ]
  },
  {
   "cell_type": "code",
   "execution_count": null,
   "metadata": {},
   "outputs": [],
   "source": [
    "# import dataset\n",
    "(ds_train, ds_test) = tfds.load('larcv', split=['train', 'test'],\n",
    "                                as_supervised=True, \n",
    "                                shuffle_files=config['shuffle'])\n",
    "\n",
    "ds_train = np.array(list(ds_train))[:, 0]\n",
    "ds_test = np.array(list(ds_test))[:, 0]\n",
    "\n",
    "ds_train = np.array([i.numpy() for i in ds_train])\n",
    "ds_train = np.array([i / 255 * 10 for i in ds_train])\n",
    "ds_train = np.reshape(ds_train, [-1, 64, 64, 1]).astype(float)    \n",
    "\n",
    "ds_test = np.array([i.numpy() for i in ds_test])\n",
    "ds_test = np.array([i / 255 * 10 for i in ds_test])\n",
    "ds_test = np.reshape(ds_test, [-1, 64, 64, 1]).astype(float) "
   ]
  },
  {
   "cell_type": "code",
   "execution_count": null,
   "metadata": {
    "scrolled": true
   },
   "outputs": [],
   "source": [
    "vqvae, vqvae_sampler, encoder, decoder, codes_sampler, get_vqvae_codebook = build_vqvae(config)\n",
    "vqvae.summary()\n",
    "history = vqvae.fit(x=ds_train, y=ds_train, epochs=config['vqvae_epochs'], \n",
    "                    batch_size=config['vqvae_batch_size'], \n",
    "                    validation_data=(ds_test, ds_test), verbose=2)"
   ]
  },
  {
   "cell_type": "code",
   "execution_count": null,
   "metadata": {},
   "outputs": [],
   "source": [
    "z_train = encoder.predict(ds_train)\n",
    "z_test = encoder.predict(ds_test)\n",
    "pixelcnn_prior, prior_sampler = build_pixelcnn(config, codes_sampler) \n",
    "prior_history = pixelcnn_prior.fit(ds_train, ds_train, epochs=config[\"pcnn_epochs\"], \n",
    "                                   batch_size=config['pcnn_batch_size'], verbose=1)"
   ]
  }
 ],
 "metadata": {
  "kernelspec": {
   "display_name": "Python 3",
   "language": "python",
   "name": "python3"
  },
  "language_info": {
   "codemirror_mode": {
    "name": "ipython",
    "version": 3
   },
   "file_extension": ".py",
   "mimetype": "text/x-python",
   "name": "python",
   "nbconvert_exporter": "python",
   "pygments_lexer": "ipython3",
   "version": "3.6.9"
  }
 },
 "nbformat": 4,
 "nbformat_minor": 2
}
